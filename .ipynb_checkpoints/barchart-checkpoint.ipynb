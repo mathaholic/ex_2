{
 "cells": [
  {
   "cell_type": "code",
   "execution_count": 1,
   "metadata": {
    "collapsed": false
   },
   "outputs": [
    {
     "name": "stdout",
     "output_type": "stream",
     "text": [
      "3.5.2 |Anaconda 4.1.1 (x86_64)| (default, Jul  2 2016, 17:52:12) \n",
      "[GCC 4.2.1 Compatible Apple LLVM 4.2 (clang-425.0.28)]\n"
     ]
    }
   ],
   "source": [
    "import pandas as pd\n",
    "import numpy as np\n",
    "import sys\n",
    "%matplotlib inline\n",
    "from matplotlib import pyplot as plt\n",
    "print(sys.version)"
   ]
  },
  {
   "cell_type": "code",
   "execution_count": 51,
   "metadata": {
    "collapsed": true
   },
   "outputs": [],
   "source": [
    "p = [('', 1), ('13', 1), ('6', 1), ('After', 1), ('Antique', 1), ('CUT', 1), ('Cook', 1), ('DIRECTORS', 1), ('EXTRA', 1), ('England', 1), ('FOR', 1), ('FUCKING', 1), ('Factories', 1), ('Form', 1), ('Free', 1), ('GO', 1), ('GOD', 1), ('HAD', 1), ('Half', 1), ('I', 6), ('If', 1), ('Leafs', 1), ('ME', 1), ('MILE', 1), ('MY', 1), ('Main', 1), ('Makeup', 1), ('Mascot', 1), ('Need', 1), ('New', 1), ('No', 1), ('OH', 1), ('Portage', 1), ('SOMEONE', 1), ('She', 1), ('Shoe', 1), ('THE', 1), ('Thank', 1), ('The', 1), ('There', 1), ('WHO', 1), ('WISH', 1), ('WOULD', 1), ('Wendigo', 1), ('What', 1), ('Whenever', 1), ('You', 1), ('a', 4), ('about', 1), ('again', 1), ('alone', 1), ('already', 1), ('am', 1), ('amp', 1), ('an', 1), ('and', 2), ('any', 1), ('anyway', 1), ('appreciate', 1), ('are', 1), ('area', 1), ('at', 1), ('attitude', 1), ('award', 1), ('baby', 1), ('back', 1), ('bad', 1), ('ballroom', 1), ('be', 2), ('big', 1), ('bio', 1), ('boots', 1), ('bus', 1), ('but', 1), ('buying', 1), ('by', 2), ('came', 1), ('can', 2), ('cant', 1), ('car', 1), ('care', 1), ('click', 1), ('comes', 1), ('cop', 1), ('cover', 1), ('customer', 1), ('dad', 1), ('day', 1), ('depressed', 1), ('depression', 1), ('did', 1), ('didnt', 1), ('dis', 1), ('done', 1), ('dont', 1), ('down', 1), ('dream', 1), ('due', 1), ('everyone', 1), ('excited', 1), ('executive', 1), ('exo', 1), ('exols', 1), ('feel', 1), ('feeling', 1), ('fiction', 1), ('first', 1), ('flag', 1), ('for', 1), ('from', 1), ('gave', 1), ('get', 2), ('girl', 1), ('give', 1), ('given', 1), ('go', 1), ('god', 1), ('gonna', 1), ('good', 1), ('harm', 1), ('have', 2), ('he', 1), ('here', 1), ('hes', 1), ('hits', 1), ('how', 1), ('hugs', 1), ('humbled', 1), ('i', 5), ('impaled', 1), ('important', 1), ('in', 1), ('inched', 1), ('is', 2), ('it', 1), ('its', 1), ('just', 2), ('like', 1), ('link', 1), ('lipstick', 1), ('look', 1), ('love', 1), ('lyk', 1), ('made', 1), ('me', 1), ('met', 1), ('mine', 1), ('my', 1), ('new', 1), ('night', 1), ('not', 2), ('of', 2), ('on', 1), ('once', 1), ('or', 1), ('our', 1), ('overkill', 1), ('overturned', 1), ('people', 2), ('pig', 2), ('please', 1), ('ppls', 1), ('princess', 1), ('pulp', 1), ('put', 1), ('rampaging', 1), ('reasons', 1), ('reference', 1), ('remember', 1), ('retweet', 1), ('rt', 1), ('sad', 1), ('save', 1), ('she', 1), ('shes', 1), ('sister', 1), ('sleep', 1), ('smh', 1), ('so', 1), ('someone', 1), ('something', 1), ('son', 1), ('soon', 1), ('spur', 1), ('stared', 1), ('start', 1), ('still', 2), ('suicidal', 1), ('supported', 1), ('talk', 1), ('that', 3), ('the', 3), ('these', 1), ('they', 1), ('this', 2), ('those', 1), ('to', 2), ('tobi', 1), ('today', 1), ('transaction', 1), ('trooper', 1), ('tweet', 1), ('up', 1), ('urge', 1), ('very', 1), ('voted', 1), ('w', 1), ('walkin', 1), ('want', 1), ('was', 1), ('watch', 1), ('we', 1), ('well', 1), ('when', 1), ('who', 1), ('why', 1), ('woman', 1), ('world', 1), ('worriesIll', 1), ('would', 1), ('wreckkkkkk', 1), ('years', 1), ('yes', 1), ('you', 3), ('youll', 1), ('your', 1)]"
   ]
  },
  {
   "cell_type": "code",
   "execution_count": 52,
   "metadata": {
    "collapsed": false
   },
   "outputs": [],
   "source": [
    "p1 = []\n",
    "for t in p:\n",
    "    p1.append((t[0].lower(), t[1]))"
   ]
  },
  {
   "cell_type": "code",
   "execution_count": 53,
   "metadata": {
    "collapsed": false
   },
   "outputs": [
    {
     "data": {
      "text/plain": [
       "('', 1)"
      ]
     },
     "execution_count": 53,
     "metadata": {},
     "output_type": "execute_result"
    }
   ],
   "source": [
    "p1.pop(0)"
   ]
  },
  {
   "cell_type": "code",
   "execution_count": 54,
   "metadata": {
    "collapsed": false
   },
   "outputs": [
    {
     "data": {
      "text/plain": [
       "225"
      ]
     },
     "execution_count": 54,
     "metadata": {},
     "output_type": "execute_result"
    }
   ],
   "source": [
    "len(p1)"
   ]
  },
  {
   "cell_type": "code",
   "execution_count": 55,
   "metadata": {
    "collapsed": true
   },
   "outputs": [],
   "source": [
    "p1.sort(key=lambda x: x[1], reverse=True) "
   ]
  },
  {
   "cell_type": "code",
   "execution_count": 56,
   "metadata": {
    "collapsed": false
   },
   "outputs": [],
   "source": [
    "p1 = p1[:21]"
   ]
  },
  {
   "cell_type": "code",
   "execution_count": 57,
   "metadata": {
    "collapsed": false
   },
   "outputs": [
    {
     "data": {
      "text/plain": [
       "('i', 6)"
      ]
     },
     "execution_count": 57,
     "metadata": {},
     "output_type": "execute_result"
    }
   ],
   "source": [
    "p1.pop(0)"
   ]
  },
  {
   "cell_type": "code",
   "execution_count": 58,
   "metadata": {
    "collapsed": false
   },
   "outputs": [
    {
     "data": {
      "text/plain": [
       "20"
      ]
     },
     "execution_count": 58,
     "metadata": {},
     "output_type": "execute_result"
    }
   ],
   "source": [
    "len(p1)"
   ]
  },
  {
   "cell_type": "code",
   "execution_count": 63,
   "metadata": {
    "collapsed": false
   },
   "outputs": [
    {
     "data": {
      "image/png": "[encoded data removed]",
      "text/plain": [
       "<matplotlib.figure.Figure at 0x114f7a5f8>"
      ]
     },
     "metadata": {},
     "output_type": "display_data"
    }
   ],
   "source": [
    "words = [x[0] for x in p1]\n",
    "score = [x[1] for x in p1]\n",
    "x_pos = np.arange(len(words)) \n",
    "\n",
    "# calculate slope and intercept for the linear trend line\n",
    "slope, intercept = np.polyfit(x_pos, score, 1)\n",
    "trendline = intercept + (slope * x_pos)\n",
    "plt.figure(figsize=(14,6))\n",
    "plt.plot(x_pos, trendline, color='red', linestyle='--')    \n",
    "plt.bar(x_pos, score)\n",
    "plt.xticks(x_pos, words, rotation=30, horizontalalignment=\"right\", fontsize = 'small')\n",
    "\n",
    "plt.title('Word use on Twitter')\n",
    "\n",
    "plt.show()"
   ]
  },
  {
   "cell_type": "code",
   "execution_count": 50,
   "metadata": {
    "collapsed": false
   },
   "outputs": [
    {
     "data": {
      "text/plain": [
       "19"
      ]
     },
     "execution_count": 50,
     "metadata": {},
     "output_type": "execute_result"
    }
   ],
   "source": [
    "len(p1)"
   ]
  },
  {
   "cell_type": "code",
   "execution_count": null,
   "metadata": {
    "collapsed": true
   },
   "outputs": [],
   "source": []
  }
 ],
 "metadata": {
  "anaconda-cloud": {},
  "kernelspec": {
   "display_name": "Python [Root]",
   "language": "python",
   "name": "Python [Root]"
  },
  "language_info": {
   "codemirror_mode": {
    "name": "ipython",
    "version": 3
   },
   "file_extension": ".py",
   "mimetype": "text/x-python",
   "name": "python",
   "nbconvert_exporter": "python",
   "pygments_lexer": "ipython3",
   "version": "3.5.2"
  }
 },
 "nbformat": 4,
 "nbformat_minor": 2
}
